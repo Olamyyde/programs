{
  "nbformat": 4,
  "nbformat_minor": 0,
  "metadata": {
    "colab": {
      "name": "celciusToFarenheit.ipynb",
      "provenance": [],
      "authorship_tag": "ABX9TyNT5+UxHjbnv1n4LIXUHRUh",
      "include_colab_link": true
    },
    "kernelspec": {
      "name": "python3",
      "display_name": "Python 3"
    }
  },
  "cells": [
    {
      "cell_type": "markdown",
      "metadata": {
        "id": "view-in-github",
        "colab_type": "text"
      },
      "source": [
        "<a href=\"https://colab.research.google.com/github/Olamyyde/programs/blob/main/celciusToFarenheit.ipynb\" target=\"_parent\"><img src=\"https://colab.research.google.com/assets/colab-badge.svg\" alt=\"Open In Colab\"/></a>"
      ]
    },
    {
      "cell_type": "code",
      "metadata": {
        "colab": {
          "base_uri": "https://localhost:8080/"
        },
        "id": "CvRkspD5HGy9",
        "outputId": "2193acab-7db6-4740-b696-448d3c72f242"
      },
      "source": [
        "celcius=int(input(\"Enter the temp in celcius: \"))\n",
        "f=(celcius*1.8)+32\n",
        "print(\"The temperature in farenheit: \", f)"
      ],
      "execution_count": 1,
      "outputs": [
        {
          "output_type": "stream",
          "text": [
            "Enter the temp in celcius: 34\n",
            "The temperature in farenheit:  93.2\n"
          ],
          "name": "stdout"
        }
      ]
    },
    {
      "cell_type": "code",
      "metadata": {
        "id": "X2V_bwzOHmQm"
      },
      "source": [
        ""
      ],
      "execution_count": null,
      "outputs": []
    }
  ]
}