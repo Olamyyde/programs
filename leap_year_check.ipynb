{
  "nbformat": 4,
  "nbformat_minor": 0,
  "metadata": {
    "colab": {
      "name": "leap year check.ipynb",
      "provenance": [],
      "authorship_tag": "ABX9TyPlRf3j4B2OaHoX/k65jvFg",
      "include_colab_link": true
    },
    "kernelspec": {
      "name": "python3",
      "display_name": "Python 3"
    }
  },
  "cells": [
    {
      "cell_type": "markdown",
      "metadata": {
        "id": "view-in-github",
        "colab_type": "text"
      },
      "source": [
        "<a href=\"https://colab.research.google.com/github/Olamyyde/programs/blob/main/leap_year_check.ipynb\" target=\"_parent\"><img src=\"https://colab.research.google.com/assets/colab-badge.svg\" alt=\"Open In Colab\"/></a>"
      ]
    },
    {
      "cell_type": "markdown",
      "metadata": {
        "id": "B4tPXHzpKKro"
      },
      "source": [
        "The program checks if a year is a leap year or not from user input."
      ]
    },
    {
      "cell_type": "code",
      "metadata": {
        "colab": {
          "base_uri": "https://localhost:8080/"
        },
        "id": "AO8A6IYKKRc4",
        "outputId": "940492c7-062c-4a88-8ada-5a9fde09ff55"
      },
      "source": [
        "yr=int(input(\"enter a year: \"))\n",
        "if(yr%4==0 and yr%100!=0 or yr%400==0):\n",
        "    print(\"The year is a leap year\")\n",
        "else:\n",
        "    print(\"Not a leap year\")"
      ],
      "execution_count": 5,
      "outputs": [
        {
          "output_type": "stream",
          "text": [
            "enter a year: 2004\n",
            "The year is a leap year\n"
          ],
          "name": "stdout"
        }
      ]
    }
  ]
}