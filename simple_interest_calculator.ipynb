{
  "nbformat": 4,
  "nbformat_minor": 0,
  "metadata": {
    "colab": {
      "name": "simple interest calculator.ipynb",
      "provenance": [],
      "authorship_tag": "ABX9TyNmkqdkV0Y1U92uFe5k3vRh",
      "include_colab_link": true
    },
    "kernelspec": {
      "name": "python3",
      "display_name": "Python 3"
    }
  },
  "cells": [
    {
      "cell_type": "markdown",
      "metadata": {
        "id": "view-in-github",
        "colab_type": "text"
      },
      "source": [
        "<a href=\"https://colab.research.google.com/github/Olamyyde/programs/blob/main/simple_interest_calculator.ipynb\" target=\"_parent\"><img src=\"https://colab.research.google.com/assets/colab-badge.svg\" alt=\"Open In Colab\"/></a>"
      ]
    },
    {
      "cell_type": "markdown",
      "metadata": {
        "id": "B4tPXHzpKKro"
      },
      "source": [
        "The program calculates simple interest."
      ]
    },
    {
      "cell_type": "code",
      "metadata": {
        "colab": {
          "base_uri": "https://localhost:8080/"
        },
        "id": "AO8A6IYKKRc4",
        "outputId": "e725732e-c8f2-413b-8b6b-cd35e2ab0744"
      },
      "source": [
        "principle=float(input('Enter the principle amount: '))\n",
        "time=int(input('Enter the time(in years): '))\n",
        "rate=float(input('Enter the yearly rate: '))\n",
        "\n",
        "SI=(principle*time*rate)/100\n",
        "\n",
        "print('The simple interest is: ', SI)"
      ],
      "execution_count": 6,
      "outputs": [
        {
          "output_type": "stream",
          "text": [
            "Enter the principle amount: 5000\n",
            "Enter the time(in years): 3\n",
            "Enter the yearly rate: 2.3\n",
            "The simple interest is:  345.0\n"
          ],
          "name": "stdout"
        }
      ]
    }
  ]
}