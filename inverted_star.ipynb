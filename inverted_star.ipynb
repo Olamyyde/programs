{
  "nbformat": 4,
  "nbformat_minor": 0,
  "metadata": {
    "colab": {
      "name": "inverted star.ipynb",
      "provenance": [],
      "authorship_tag": "ABX9TyNN7LRp9pXIhrKtvrY0ospo",
      "include_colab_link": true
    },
    "kernelspec": {
      "name": "python3",
      "display_name": "Python 3"
    }
  },
  "cells": [
    {
      "cell_type": "markdown",
      "metadata": {
        "id": "view-in-github",
        "colab_type": "text"
      },
      "source": [
        "<a href=\"https://colab.research.google.com/github/Olamyyde/programs/blob/main/inverted_star.ipynb\" target=\"_parent\"><img src=\"https://colab.research.google.com/assets/colab-badge.svg\" alt=\"Open In Colab\"/></a>"
      ]
    },
    {
      "cell_type": "code",
      "metadata": {
        "colab": {
          "base_uri": "https://localhost:8080/"
        },
        "id": "rCkVuq-yJhWM",
        "outputId": "226bc957-375b-4790-d6ab-96df97fe87aa"
      },
      "source": [
        "n=int(input(\"enter a number: \"))\n",
        "for i in range(n,0,-1):\n",
        "    print((n-1) * ' ' + i * '*')"
      ],
      "execution_count": 2,
      "outputs": [
        {
          "output_type": "stream",
          "text": [
            "enter a number: 12\n",
            "           ************\n",
            "           ***********\n",
            "           **********\n",
            "           *********\n",
            "           ********\n",
            "           *******\n",
            "           ******\n",
            "           *****\n",
            "           ****\n",
            "           ***\n",
            "           **\n",
            "           *\n"
          ],
          "name": "stdout"
        }
      ]
    },
    {
      "cell_type": "code",
      "metadata": {
        "id": "TeqWRZsKJnCF"
      },
      "source": [
        ""
      ],
      "execution_count": null,
      "outputs": []
    }
  ]
}